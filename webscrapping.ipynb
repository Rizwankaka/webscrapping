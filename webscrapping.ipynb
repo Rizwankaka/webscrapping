{
 "cells": [
  {
   "cell_type": "code",
   "execution_count": 20,
   "metadata": {},
   "outputs": [
    {
     "name": "stdout",
     "output_type": "stream",
     "text": [
      "World population - Wikipedia\n"
     ]
    }
   ],
   "source": [
    "import requests\n",
    "from bs4 import BeautifulSoup\n",
    "import pandas as pd \n",
    "\n",
    "url='https://en.wikipedia.org/wiki/World_population'\n",
    "\n",
    "response=requests.get(url)\n",
    "\n",
    "soup=BeautifulSoup(response.text,'html.parser')\n",
    "\n",
    "# print(soup.title)\n",
    "print(soup.title.text)\n",
    "\n",
    "# print(soup.prettify()) # print the whole html code\n",
    "\n",
    "# find all the tables \n",
    "tables=soup.find_all('table')\n",
    "#print(tables)\n",
    "\n",
    "dataframe=[]\n",
    "for i, table in enumerate(tables):\n",
    "    rows=table.find_all('tr')\n",
    "    data=[]\n",
    "    for row in rows:\n",
    "        cols=row.find_all('td')\n",
    "        cols=[col.text.strip() for col in cols]\n",
    "        data.append(cols)\n",
    "    df= pd.DataFrame(data)\n",
    "    dataframe.append(df)\n",
    "dataframe[1].to_csv(\"World_population.csv\", index=False, header=False)"
   ]
  }
 ],
 "metadata": {
  "kernelspec": {
   "display_name": "webscrapping",
   "language": "python",
   "name": "python3"
  },
  "language_info": {
   "codemirror_mode": {
    "name": "ipython",
    "version": 3
   },
   "file_extension": ".py",
   "mimetype": "text/x-python",
   "name": "python",
   "nbconvert_exporter": "python",
   "pygments_lexer": "ipython3",
   "version": "3.11.4"
  },
  "orig_nbformat": 4
 },
 "nbformat": 4,
 "nbformat_minor": 2
}
