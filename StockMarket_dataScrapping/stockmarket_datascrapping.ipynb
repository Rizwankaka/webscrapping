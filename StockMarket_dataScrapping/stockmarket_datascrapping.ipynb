{
 "cells": [
  {
   "cell_type": "code",
   "execution_count": 8,
   "metadata": {},
   "outputs": [
    {
     "name": "stdout",
     "output_type": "stream",
     "text": [
      "(2532, 7)\n"
     ]
    }
   ],
   "source": [
    "import yfinance as yf\n",
    "import pandas as pd\n",
    "\n",
    "# define ticker symbol \n",
    "tickerSymbol='AAPL' # specific keyword for apple or ticker symbol for apple for stock\n",
    "\n",
    "# get data on this ticker \n",
    "tickerData=yf.Ticker(tickerSymbol)\n",
    "#tickerData.info\n",
    "\n",
    "# get the historical prices for this ticker\n",
    "tickerDf=tickerData.history(period='1d', start='2010-1-1', end='2020-1-25')\n",
    "\n",
    "# last closing price \n",
    "tickerDf['Close'].iloc[-1]\n",
    "tickerDf.head()\n",
    "print(tickerDf.shape)"
   ]
  },
  {
   "attachments": {},
   "cell_type": "markdown",
   "metadata": {},
   "source": [
    "ticker symbol for tesla is <span style=\"color:red;\">TSLA</span>\n"
   ]
  },
  {
   "cell_type": "code",
   "execution_count": 17,
   "metadata": {},
   "outputs": [
    {
     "data": {
      "text/html": [
       "<div>\n",
       "<style scoped>\n",
       "    .dataframe tbody tr th:only-of-type {\n",
       "        vertical-align: middle;\n",
       "    }\n",
       "\n",
       "    .dataframe tbody tr th {\n",
       "        vertical-align: top;\n",
       "    }\n",
       "\n",
       "    .dataframe thead th {\n",
       "        text-align: right;\n",
       "    }\n",
       "</style>\n",
       "<table border=\"1\" class=\"dataframe\">\n",
       "  <thead>\n",
       "    <tr style=\"text-align: right;\">\n",
       "      <th></th>\n",
       "      <th>Open</th>\n",
       "      <th>High</th>\n",
       "      <th>Low</th>\n",
       "      <th>Close</th>\n",
       "      <th>Volume</th>\n",
       "      <th>Dividends</th>\n",
       "      <th>Stock Splits</th>\n",
       "    </tr>\n",
       "    <tr>\n",
       "      <th>Date</th>\n",
       "      <th></th>\n",
       "      <th></th>\n",
       "      <th></th>\n",
       "      <th></th>\n",
       "      <th></th>\n",
       "      <th></th>\n",
       "      <th></th>\n",
       "    </tr>\n",
       "  </thead>\n",
       "  <tbody>\n",
       "    <tr>\n",
       "      <th>2022-06-23 00:00:00-04:00</th>\n",
       "      <td>237.906662</td>\n",
       "      <td>239.316666</td>\n",
       "      <td>228.636673</td>\n",
       "      <td>235.070007</td>\n",
       "      <td>104202600</td>\n",
       "      <td>0.0</td>\n",
       "      <td>0.0</td>\n",
       "    </tr>\n",
       "    <tr>\n",
       "      <th>2022-06-24 00:00:00-04:00</th>\n",
       "      <td>237.470001</td>\n",
       "      <td>246.066666</td>\n",
       "      <td>236.086670</td>\n",
       "      <td>245.706665</td>\n",
       "      <td>95770800</td>\n",
       "      <td>0.0</td>\n",
       "      <td>0.0</td>\n",
       "    </tr>\n",
       "    <tr>\n",
       "      <th>2022-06-27 00:00:00-04:00</th>\n",
       "      <td>249.366669</td>\n",
       "      <td>252.070007</td>\n",
       "      <td>242.566666</td>\n",
       "      <td>244.919998</td>\n",
       "      <td>89178300</td>\n",
       "      <td>0.0</td>\n",
       "      <td>0.0</td>\n",
       "    </tr>\n",
       "    <tr>\n",
       "      <th>2022-06-28 00:00:00-04:00</th>\n",
       "      <td>244.483337</td>\n",
       "      <td>249.970001</td>\n",
       "      <td>232.343338</td>\n",
       "      <td>232.663330</td>\n",
       "      <td>90391200</td>\n",
       "      <td>0.0</td>\n",
       "      <td>0.0</td>\n",
       "    </tr>\n",
       "    <tr>\n",
       "      <th>2022-06-29 00:00:00-04:00</th>\n",
       "      <td>230.500000</td>\n",
       "      <td>231.173340</td>\n",
       "      <td>222.273331</td>\n",
       "      <td>228.490005</td>\n",
       "      <td>82897200</td>\n",
       "      <td>0.0</td>\n",
       "      <td>0.0</td>\n",
       "    </tr>\n",
       "  </tbody>\n",
       "</table>\n",
       "</div>"
      ],
      "text/plain": [
       "                                 Open        High         Low       Close  \\\n",
       "Date                                                                        \n",
       "2022-06-23 00:00:00-04:00  237.906662  239.316666  228.636673  235.070007   \n",
       "2022-06-24 00:00:00-04:00  237.470001  246.066666  236.086670  245.706665   \n",
       "2022-06-27 00:00:00-04:00  249.366669  252.070007  242.566666  244.919998   \n",
       "2022-06-28 00:00:00-04:00  244.483337  249.970001  232.343338  232.663330   \n",
       "2022-06-29 00:00:00-04:00  230.500000  231.173340  222.273331  228.490005   \n",
       "\n",
       "                              Volume  Dividends  Stock Splits  \n",
       "Date                                                           \n",
       "2022-06-23 00:00:00-04:00  104202600        0.0           0.0  \n",
       "2022-06-24 00:00:00-04:00   95770800        0.0           0.0  \n",
       "2022-06-27 00:00:00-04:00   89178300        0.0           0.0  \n",
       "2022-06-28 00:00:00-04:00   90391200        0.0           0.0  \n",
       "2022-06-29 00:00:00-04:00   82897200        0.0           0.0  "
      ]
     },
     "execution_count": 17,
     "metadata": {},
     "output_type": "execute_result"
    }
   ],
   "source": [
    "import pandas as pd \n",
    "import yfinance as yf\n",
    "import datetime as dt \n",
    "from datetime import date, timedelta\n",
    "\n",
    "today=date.today()\n",
    "d1 = today.strftime(\"%Y-%m-%d\")\n",
    "d1\n",
    "d2=(today-timedelta(days=365)).strftime('%Y-%m-%d')\n",
    "d2\n",
    "\n",
    "start_date=d2\n",
    "end_date=d1\n",
    "\n",
    "# define ticker symbol \n",
    "tickerSymbol='TSLA' # specific keyword for apple \n",
    "\n",
    "# get data on this ticker \n",
    "tickerData=yf.Ticker(tickerSymbol)\n",
    "#tickerData.info\n",
    "\n",
    "# get the historical prices for this ticker\n",
    "tickerDf=tickerData.history(period='1d', start=start_date, end=end_date)\n",
    "\n",
    "tickerDf.head()"
   ]
  },
  {
   "cell_type": "code",
   "execution_count": 18,
   "metadata": {},
   "outputs": [],
   "source": [
    "# to save the data in csv\n",
    "tickerDf.to_csv('TSLA.csv')"
   ]
  }
 ],
 "metadata": {
  "kernelspec": {
   "display_name": "webscrapping_env",
   "language": "python",
   "name": "python3"
  },
  "language_info": {
   "codemirror_mode": {
    "name": "ipython",
    "version": 3
   },
   "file_extension": ".py",
   "mimetype": "text/x-python",
   "name": "python",
   "nbconvert_exporter": "python",
   "pygments_lexer": "ipython3",
   "version": "3.11.4"
  },
  "orig_nbformat": 4
 },
 "nbformat": 4,
 "nbformat_minor": 2
}
